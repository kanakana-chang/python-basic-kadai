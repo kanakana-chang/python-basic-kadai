{
  "nbformat": 4,
  "nbformat_minor": 0,
  "metadata": {
    "colab": {
      "provenance": []
    },
    "kernelspec": {
      "name": "python3",
      "display_name": "Python 3"
    },
    "language_info": {
      "name": "python"
    }
  },
  "cells": [
    {
      "cell_type": "code",
      "execution_count": 5,
      "metadata": {
        "colab": {
          "base_uri": "https://localhost:8080/"
        },
        "id": "VlZIQEJCG8Ak",
        "outputId": "b54fd339-19ae-441a-d67e-188f892b7f42"
      },
      "outputs": [
        {
          "output_type": "stream",
          "name": "stdout",
          "text": [
            "FizzBuzz\n"
          ]
        }
      ],
      "source": [
        "var=15\n",
        "if var%3==0 and var%5==0:\n",
        "  print(\"FizzBuzz\")\n",
        "elif var%3==0 and var%5!=0:\n",
        "  print(\"Fizz\")\n",
        "elif var%3!=0 and var%5==0:\n",
        "  print(\"Buzz\")\n",
        "else:\n",
        "  print(var)"
      ]
    }
  ]
}