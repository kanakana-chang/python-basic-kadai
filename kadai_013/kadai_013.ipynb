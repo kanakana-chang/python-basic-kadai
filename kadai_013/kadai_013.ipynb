{
  "nbformat": 4,
  "nbformat_minor": 0,
  "metadata": {
    "colab": {
      "provenance": []
    },
    "kernelspec": {
      "name": "python3",
      "display_name": "Python 3"
    },
    "language_info": {
      "name": "python"
    }
  },
  "cells": [
    {
      "cell_type": "code",
      "execution_count": 8,
      "metadata": {
        "colab": {
          "base_uri": "https://localhost:8080/"
        },
        "id": "ftwIm4vl_5wp",
        "outputId": "d855a04a-e133-4dca-cbec-3c9a17676d46"
      },
      "outputs": [
        {
          "output_type": "stream",
          "name": "stdout",
          "text": [
            "121\n"
          ]
        }
      ],
      "source": [
        "def consumption_tax(num,tax):\n",
        "  return int(num*(1+tax/100))\n",
        "\n",
        "print(consumption_tax(110,10))"
      ]
    }
  ]
}