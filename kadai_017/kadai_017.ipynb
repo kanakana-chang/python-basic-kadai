{
  "nbformat": 4,
  "nbformat_minor": 0,
  "metadata": {
    "colab": {
      "provenance": []
    },
    "kernelspec": {
      "name": "python3",
      "display_name": "Python 3"
    },
    "language_info": {
      "name": "python"
    }
  },
  "cells": [
    {
      "cell_type": "code",
      "execution_count": 2,
      "metadata": {
        "colab": {
          "base_uri": "https://localhost:8080/"
        },
        "id": "uBG78AX3Hi9e",
        "outputId": "fc8018df-1ed2-4958-f9e8-98e18f6e4c83"
      },
      "outputs": [
        {
          "output_type": "stream",
          "name": "stdout",
          "text": [
            "大人ではありません\n"
          ]
        }
      ],
      "source": [
        "class Human:\n",
        "  def __init__(self, name, age):\n",
        "    self.name = name\n",
        "    self.age = age\n",
        "\n",
        "  def check_adult(self):\n",
        "    if self.age>=20:\n",
        "      return True\n",
        "    else:\n",
        "      return False\n",
        "\n",
        "human=Human(\"太郎\", 20)\n",
        "if human.check_adult():\n",
        "  print(\"大人です\")\n",
        "else:\n",
        "  print(\"大人ではありません\")"
      ]
    }
  ]
}