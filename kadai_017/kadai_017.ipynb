{
  "nbformat": 4,
  "nbformat_minor": 0,
  "metadata": {
    "colab": {
      "provenance": []
    },
    "kernelspec": {
      "name": "python3",
      "display_name": "Python 3"
    },
    "language_info": {
      "name": "python"
    }
  },
  "cells": [
    {
      "cell_type": "code",
      "execution_count": 8,
      "metadata": {
        "colab": {
          "base_uri": "https://localhost:8080/"
        },
        "id": "uBG78AX3Hi9e",
        "outputId": "f7346517-444e-4637-81da-a45537b086ec"
      },
      "outputs": [
        {
          "output_type": "stream",
          "name": "stdout",
          "text": [
            "太郎 is 20 years old and is an adult.\n",
            "花子 is 15 years old and is not an adult.\n",
            "二郎 is 30 years old and is an adult.\n"
          ]
        }
      ],
      "source": [
        "class Human:\n",
        "  def __init__(self, name, age):\n",
        "    self.name = name\n",
        "    self.age = age\n",
        "\n",
        "  def check_adult(self):\n",
        "    if self.age>=20:\n",
        "      print(f\"{self.name} is {self.age} years old and is an adult.\")\n",
        "    else:\n",
        "      print(f\"{self.name} is {self.age} years old and is not an adult.\")\n",
        "\n",
        "humans=[Human(\"太郎\", 20), Human(\"花子\", 15), Human(\"二郎\",30)]\n",
        "\n",
        "for human in humans:\n",
        "  human.check_adult()"
      ]
    }
  ]
}