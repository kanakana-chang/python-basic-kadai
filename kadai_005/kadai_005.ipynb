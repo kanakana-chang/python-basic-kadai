{
  "nbformat": 4,
  "nbformat_minor": 0,
  "metadata": {
    "colab": {
      "provenance": []
    },
    "kernelspec": {
      "name": "python3",
      "display_name": "Python 3"
    },
    "language_info": {
      "name": "python"
    }
  },
  "cells": [
    {
      "cell_type": "code",
      "execution_count": 2,
      "metadata": {
        "colab": {
          "base_uri": "https://localhost:8080/"
        },
        "id": "YGjqOFTS_Oxf",
        "outputId": "0afea028-8b42-4452-ffe1-4accc477915c"
      },
      "outputs": [
        {
          "output_type": "stream",
          "name": "stdout",
          "text": [
            "75.0cm²\n"
          ]
        }
      ],
      "source": [
        "a=10 #上辺：10cm\n",
        "b=20 #下辺：20cm\n",
        "c=5 #高さ：5cm\n",
        "\n",
        "#公式：台形の面積 =（上辺＋下辺）× 高さ ÷ 2\n",
        "s=(a+b)*c/2\n",
        "\n",
        "print(f\"{str(s)}cm²\")"
      ]
    }
  ]
}